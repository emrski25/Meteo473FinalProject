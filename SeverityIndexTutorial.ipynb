{
 "cells": [
  {
   "cell_type": "markdown",
   "id": "c3c4a32c-b9f5-4e8c-8a1f-b1595d52fb7e",
   "metadata": {},
   "source": [
    "#**Welcome to our Severity Index:**\n",
    "This tutorial will go over what ECMWF model data we collected and how we constructed our Severity Index to construct which areas were affected the most during a major storm.\n"
   ]
  },
  {
   "cell_type": "code",
   "execution_count": null,
   "id": "2388b71d-7092-4c32-a1ea-ecca5fa49ed7",
   "metadata": {},
   "outputs": [],
   "source": []
  }
 ],
 "metadata": {
  "kernelspec": {
   "display_name": "Meteo 473 Spring 2025",
   "language": "python",
   "name": "meteo473_sp25"
  },
  "language_info": {
   "codemirror_mode": {
    "name": "ipython",
    "version": 3
   },
   "file_extension": ".py",
   "mimetype": "text/x-python",
   "name": "python",
   "nbconvert_exporter": "python",
   "pygments_lexer": "ipython3",
   "version": "3.13.1"
  }
 },
 "nbformat": 4,
 "nbformat_minor": 5
}
