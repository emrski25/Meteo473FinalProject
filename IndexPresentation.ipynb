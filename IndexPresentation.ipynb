{
 "cells": [
  {
   "cell_type": "markdown",
   "id": "edf305bb-b333-4050-a5e3-afe1f7cc24b3",
   "metadata": {},
   "source": [
    "# Severity Index Assessment for the Southwest United States during Hurricane Season\n",
    "### Authors: Ellie Rafalski and Landon Allmaras\n",
    "### Contacts: lda5159@psu.edu and whatever ellies email is "
   ]
  },
  {
   "cell_type": "markdown",
   "id": "66e4d1f6-e6d8-49d7-a767-b85b569fba23",
   "metadata": {},
   "source": [
    "![image](ms3-1.PNG)\n",
    "![image2](ms3-2.PNG)"
   ]
  },
  {
   "cell_type": "markdown",
   "id": "1dd52601-56d8-43d2-86bb-58bb058f94f7",
   "metadata": {},
   "source": [
    "#### This project presents a potential methodology for calculating a 'Hurricane Severity Index'. We have gathered a few different ECMWF model runs that range from a low risk tropical storm to a hurricane that can cause major damage. Along with that, bouncing between different variables that include wind speed, surface pressure, precipitation can prove helpful to emergency planners, utility managers, and insurers in assessing the potential impact of hurricanes and tropical storms."
   ]
  },
  {
   "cell_type": "markdown",
   "id": "1e2e17d3-d7dc-4ae8-b356-8efe9bc5344e",
   "metadata": {},
   "source": [
    "## How may a potential employer use this?\n",
    "1. Track progress of a storm and where damage could be higher at.\n",
    "2. Predict future trends where storm damage is higher at.\n",
    "3. Informing the general public when the proper time to evacuate and come back is.\n",
    "4. Support possible insurance claims that are made after a storm.\n",
    "5. Prioritize high risk areas for utility restoration."
   ]
  },
  {
   "cell_type": "markdown",
   "id": "94645ed9-5cb5-4650-8f20-d65617017229",
   "metadata": {},
   "source": [
    "![damage](damage473.jpg)"
   ]
  },
  {
   "cell_type": "markdown",
   "id": "4c0bde8d-7650-4515-a8b1-537d5852b993",
   "metadata": {},
   "source": [
    "## **Choosing which data to use and how to navigate downloading it:**"
   ]
  },
  {
   "cell_type": "code",
   "execution_count": null,
   "id": "cc606eeb-f78c-461e-ab4d-34670c3714f1",
   "metadata": {},
   "outputs": [],
   "source": [
    "from herbie import Herbie, FastHerbie\n",
    "import pandas as pd, numpy as np\n",
    "import xarray as xr\n",
    "import dask\n",
    "\n",
    "runtime = pd.Timestamp(\"2024-09-27\", tz=\"utc\").replace(tzinfo=None).floor('24h')\n",
    "H = Herbie(runtime, model=\"ifs\", product=\"oper\", fxx=6, save_dir='.', overwrite=True)"
   ]
  },
  {
   "cell_type": "markdown",
   "id": "8d85ce72-d720-48f2-ae1a-150bd56bc35f",
   "metadata": {},
   "source": [
    "- Using Herbie is a helpful tool when trying to pull any old runs that you may be interested in\n",
    "- This is also a single run - in this case it will start at 00 Z and take the 6 hour forecast run\n",
    "- Out of this single run we defined which variables we wanted to use that we believed could be helpful for putting together our 'Severity Index'"
   ]
  },
  {
   "cell_type": "markdown",
   "id": "726ff76a-b4ac-4ed0-b7e3-4f561931d998",
   "metadata": {},
   "source": [
    "### Vorticity, Surface Pressure, Total Wind, and Precipitation rate\n",
    "- Defining graphs for each of our variables gave us an idea of what could be a crucial part of the calculation and watching the progress of the run.\n",
    "- We also combined a few different contour and contourf values to read different components on the projection."
   ]
  },
  {
   "cell_type": "markdown",
   "id": "d4c7b334-9816-4b8f-8883-6afc353c369a",
   "metadata": {},
   "source": [
    "Image of combined wind components and temperature:\n",
    "![image4](ms3-4.png)\n",
    "Image of surface pressure and precipitation:\n",
    "![image5](ms3-5.png)"
   ]
  },
  {
   "cell_type": "markdown",
   "id": "d0c27d53-f064-4045-b592-b53b20b2a956",
   "metadata": {},
   "source": [
    "## Defining a full model run for 36 forecasting hours:"
   ]
  },
  {
   "cell_type": "code",
   "execution_count": null,
   "id": "a23bf2f8-cc49-473e-a2ba-473245eba563",
   "metadata": {},
   "outputs": [],
   "source": [
    "H = FastHerbie([runtime], model=\"ifs\", product=\"oper\", fxx=np.arange(0,246,6).tolist(), save_dir='.', overwrite=True)"
   ]
  },
  {
   "cell_type": "markdown",
   "id": "cd906498-d752-4659-9eb6-5e359748d0c3",
   "metadata": {},
   "source": [
    "- FastHerbie was what we used following our original run and combination of graphs for a single forecasting hour.\n",
    "- Attributes within FastHerbie help make a full run from 0 to 246 run more smoothly"
   ]
  },
  {
   "cell_type": "markdown",
   "id": "f0f15b03-268f-4cd3-bc28-962290d01867",
   "metadata": {},
   "source": [
    "## Following our download of a full model run... we defined our equation for the Severity index:"
   ]
  },
  {
   "cell_type": "code",
   "execution_count": null,
   "id": "6f094a5f-3d5a-41a7-9bd0-f141fd840c9c",
   "metadata": {},
   "outputs": [],
   "source": [
    "severity_index = abs((0.5 * totalwind_norm) + (0.3 * prate_norm) + (0.15 * vorticity_norm) + (0.05 * pressure_norm))\n",
    "severity_index = severity_index * 10"
   ]
  },
  {
   "cell_type": "markdown",
   "id": "2023c4bd-65ae-469a-aead-eb77e0ac52a5",
   "metadata": {},
   "source": [
    "- With the variables we had stated previously, we built a **Severity Index** in which the most contributing components were **Wind** and **Precipitation Rate**, based off the fact that these parameters are recorded the most and necessarily are more important when relating to damage that is recorded after a storm. **Vorticity** and **Surface Pressure** are also a smaller piece of the equation, however their values seemed to alter the number of our desired interest from 1-5 for our defined interest.\n",
    "- After developing the formula for our index, we then developed another formula that combined all of the previously defined functions above. It has the capability of taking a full model run, and outputting the severity index values for that run, as well as all of the normalized variables for that specific run. We decided to then multiply the entire index by 10, just to make the numbers make a little bit more sense on our defined index 0-5."
   ]
  },
  {
   "cell_type": "code",
   "execution_count": null,
   "id": "bed1bc28-4f58-4649-a6fc-185911d80d85",
   "metadata": {},
   "outputs": [],
   "source": [
    "def find_threat(lst):\n",
    "     # pulling in the previously defined functions and use them on the inputted list\n",
    "    pressure_norm = find_pressure(lst)\n",
    "    vorticity_norm = find_vorticity(lst)\n",
    "    totalwind_norm = find_wind(lst)\n",
    "    prate_norm = find_prate(lst)\n",
    "\n",
    "    # threat formula \n",
    "    severity_index = abs((0.5 * totalwind_norm) + (0.3 * prate_norm) + (0.15 * vorticity_norm) + (0.05 * pressure_norm))\n",
    "    # weighted severity index, we decided to have it mostly based on total wind and precipitation, with small components of the vorticity and pressure for some more depth\n",
    "    severity_index = severity_index * 10\n",
    "    # multitplied our index by ten to make the values a little more \" realistic \" to have a range 1-5 instead of decimals\n",
    "    return severity_index"
   ]
  },
  {
   "cell_type": "markdown",
   "id": "d89ca305-255d-4163-9e73-eabbc57dd435",
   "metadata": {},
   "source": [
    "Now that we introduced our Severity Index, we can make subplots for our variables that were chosen and include the movement of the storm and where it is going to be affected at the most"
   ]
  },
  {
   "cell_type": "markdown",
   "id": "64c92177-14a9-4d78-a3d4-547d8e97ec1e",
   "metadata": {},
   "source": [
    "This image correlates with Hurricane Helene at 06 Z\n",
    "![image6](ms3-6.png)\n",
    "![image7](ms3-7.png)"
   ]
  },
  {
   "cell_type": "markdown",
   "id": "f22ca63a-f4ee-4b90-9e0b-3eaa80125dbe",
   "metadata": {},
   "source": [
    "## Creation of plots for a full model run:"
   ]
  },
  {
   "cell_type": "code",
   "execution_count": null,
   "id": "f56e847f-d96c-4627-a699-5a705a1359ef",
   "metadata": {},
   "outputs": [],
   "source": []
  },
  {
   "cell_type": "code",
   "execution_count": null,
   "id": "fa8a56ec-5977-4acc-a7f6-2b95b4ca8dcf",
   "metadata": {},
   "outputs": [],
   "source": []
  },
  {
   "cell_type": "markdown",
   "id": "0f33760c-4b1b-450c-b5d5-6a8518d09c7c",
   "metadata": {},
   "source": [
    "## Conclusion:\n",
    "This tutorial demonstrated how meteorological variables can be synthesized into a Hurricane/Tropical Storm Severity Index, offering a quantifiable means of assessing storm impact. This methodology can be adapted for operational use to improve situational awareness and inform emergency management decision-making during severe weather events.\n",
    "## Future possibilities:\n",
    "- Explore different models outside of the ECMWF and what is included within Herbie\n",
    "- Calibrate with more past events to see if our severity index can match with what has already been recorded.\n",
    "- Deploy a web dashboard that can be accesses by other professionals"
   ]
  }
 ],
 "metadata": {
  "kernelspec": {
   "display_name": "Meteo 473 Spring 2025",
   "language": "python",
   "name": "meteo473_sp25"
  },
  "language_info": {
   "codemirror_mode": {
    "name": "ipython",
    "version": 3
   },
   "file_extension": ".py",
   "mimetype": "text/x-python",
   "name": "python",
   "nbconvert_exporter": "python",
   "pygments_lexer": "ipython3",
   "version": "3.13.1"
  }
 },
 "nbformat": 4,
 "nbformat_minor": 5
}
