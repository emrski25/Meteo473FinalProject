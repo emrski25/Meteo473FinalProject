{
 "cells": [
  {
   "cell_type": "markdown",
   "id": "edf305bb-b333-4050-a5e3-afe1f7cc24b3",
   "metadata": {},
   "source": [
    "# Severity Index Assessment for the Southwest United States during Hurricane Season\n",
    "### Authors: Ellie Rafalski and Landon Allmaras\n",
    "### Contacts: lda5159@psu.edu and efr5356@psu.edu"
   ]
  },
  {
   "cell_type": "markdown",
   "id": "1fe81b5e-15cb-4d87-af50-e71f1943970f",
   "metadata": {},
   "source": [
    "The figure below is a sample output of our applied **Severity Index** and **Normalized Components** from the August 5th event we chose as one of our analysis events."
   ]
  },
  {
   "cell_type": "markdown",
   "id": "66e4d1f6-e6d8-49d7-a767-b85b569fba23",
   "metadata": {},
   "source": [
    "![image](ms3-1.PNG)\n",
    "![image2](ms3-2.PNG)"
   ]
  },
  {
   "cell_type": "markdown",
   "id": "1dd52601-56d8-43d2-86bb-58bb058f94f7",
   "metadata": {},
   "source": [
    "#### This project presents a potential methodology for calculating a 'Damage Severity Index'. We have gathered a few different ECMWF model runs that range from a low risk tropical storm to a hurricane that can cause major damage. Along with that, bouncing between different variables that include wind speed, surface pressure, precipitation can prove helpful to emergency planners, utility managers, and insurers in assessing the potential impact of hurricanes and tropical storms."
   ]
  },
  {
   "cell_type": "markdown",
   "id": "1e2e17d3-d7dc-4ae8-b356-8efe9bc5344e",
   "metadata": {},
   "source": [
    "## How may a potential employer use this?\n",
    "1. Track the progression of tropical systems and highlight areas where conditions may be worsening.\n",
    "2. Indicate potential trends in storm severity that could lead to greater impacts in specific regions.\n",
    "3. Provide general guidance that could support public awareness around evacuation and return timing.\n",
    "4. Offer a preliminary reference that may assist in post-storm impact assessments and insurance evaluations.\n",
    "5. Flag areas of elevated risk that could help inform initial utility restoration priorities."
   ]
  },
  {
   "cell_type": "markdown",
   "id": "94645ed9-5cb5-4650-8f20-d65617017229",
   "metadata": {},
   "source": [
    "![damage](damage473.jpg)"
   ]
  },
  {
   "cell_type": "markdown",
   "id": "4c0bde8d-7650-4515-a8b1-537d5852b993",
   "metadata": {},
   "source": [
    "## **Choosing which data to use and how to navigate downloading it:**"
   ]
  },
  {
   "cell_type": "code",
   "execution_count": null,
   "id": "cc606eeb-f78c-461e-ab4d-34670c3714f1",
   "metadata": {},
   "outputs": [],
   "source": [
    "from herbie import Herbie, FastHerbie\n",
    "import pandas as pd, numpy as np\n",
    "import xarray as xr\n",
    "import dask\n",
    "\n",
    "runtime = pd.Timestamp(\"2024-09-27\", tz=\"utc\").replace(tzinfo=None).floor('24h')\n",
    "H = Herbie(runtime, model=\"ifs\", product=\"oper\", fxx=6, save_dir='.', overwrite=True)"
   ]
  },
  {
   "cell_type": "markdown",
   "id": "8d85ce72-d720-48f2-ae1a-150bd56bc35f",
   "metadata": {},
   "source": [
    "- Using Herbie is a helpful tool when trying to pull any old runs that you may be interested in\n",
    "- This is also a single run - in this case it will start at 00 Z and take the 6 hour forecast run\n",
    "- Out of this single run we defined which variables we wanted to use that we believed could be helpful for putting together our **Severity Index**"
   ]
  },
  {
   "cell_type": "code",
   "execution_count": null,
   "id": "5d781bd1-c014-4ec2-83e6-d83063d6e7d0",
   "metadata": {},
   "outputs": [],
   "source": [
    "runtime = pd.Timestamp(\"2024-09-27\", tz=\"utc\").replace(tzinfo=None).floor('24h')\n",
    "H = FastHerbie([runtime], model=\"ifs\", product=\"oper\", fxx=np.arange(0,246,6).tolist(), save_dir='.', overwrite=True)"
   ]
  },
  {
   "cell_type": "markdown",
   "id": "59d76ba4-de8e-4422-872d-b275d0202ddc",
   "metadata": {},
   "source": [
    "- We also included capability of handling full model runs, by incorporating Fast Herbie\n",
    "- Similar ideas of pulling out defined variables that were helpful in building our **Severity Index**\n",
    "- We chose three different tropical events to test this index on, Tropical Storm Arlene, Hurricane Helene, and Hurricane Debby (with ranging severity)"
   ]
  },
  {
   "cell_type": "markdown",
   "id": "726ff76a-b4ac-4ed0-b7e3-4f561931d998",
   "metadata": {},
   "source": [
    "### Vorticity, Surface Pressure, Total Wind, and Precipitation rate\n",
    "- Defining graphs for each of our variables gave us an idea of what could be a crucial part of the calculation and watching the progress of the run.\n",
    "- We also combined a few different contour and contourf values to read different components on the projection."
   ]
  },
  {
   "cell_type": "markdown",
   "id": "d4c7b334-9816-4b8f-8883-6afc353c369a",
   "metadata": {},
   "source": [
    "Image of combined wind components and temperature:\n",
    "![image4](ms3-4.png)\n",
    "Image of surface pressure and precipitation:\n",
    "![image5](ms3-5.png)"
   ]
  },
  {
   "cell_type": "markdown",
   "id": "f0f15b03-268f-4cd3-bc28-962290d01867",
   "metadata": {},
   "source": [
    "## Following our download of a full model run... we defined our equation for the Severity index:"
   ]
  },
  {
   "cell_type": "code",
   "execution_count": null,
   "id": "6f094a5f-3d5a-41a7-9bd0-f141fd840c9c",
   "metadata": {},
   "outputs": [],
   "source": [
    "severity_index = abs((0.5 * totalwind_norm) + (0.3 * prate_norm) + (0.15 * vorticity_norm) + (0.05 * pressure_norm))\n",
    "severity_index = severity_index * 10"
   ]
  },
  {
   "cell_type": "markdown",
   "id": "e76d1c99-998f-4427-9680-5429f977b20b",
   "metadata": {},
   "source": [
    "- To understand and track the severity of tropical weather systems, the index uses four important weather variables: wind speed, precipitation rate, vorticity, and surface pressure. Each of these factors helps us learn more about the storm's behavior and its potential impacts.\n",
    "- After selecting and pulling out this data from our downloaded netCDF files, we then normalized the data to plug into our index equation.\n",
    "- Wind Speed: Strong winds can cause significant damage, including destruction of buildings, fallen trees, and power outages. By including wind speed in the index, we can identify areas that might be most affected by wind-related impacts.\n",
    "- Precipitation Rate: Intense rainfall can lead to flash flooding and strain drainage systems. Areas with higher precipitation rates are often at greater risk for flooding, which is a major concern during tropical events.\n",
    "- Vorticity: Vorticity measures the spin of the air in the storm, helping us understand the storm’s organization and intensity. Higher vorticity often indicates a more organized storm, which is linked to stronger winds and potentially more damage.\n",
    "- Surface Pressure: Low surface pressure is a key feature of tropical storms, and when pressure drops, it typically means the storm is strengthening. Monitoring surface pressure helps us track how the storm is evolving over time.\n",
    "- These four variables together provide a more complete picture of the storm’s severity, helping us understand both the immediate and longer-term risks as the storm progresses.\n",
    "\n"
   ]
  },
  {
   "cell_type": "markdown",
   "id": "833a83e9-f28f-46c3-bc6b-a886a06ee6f4",
   "metadata": {},
   "source": [
    "**Explaining the Index**"
   ]
  },
  {
   "cell_type": "markdown",
   "id": "2023c4bd-65ae-469a-aead-eb77e0ac52a5",
   "metadata": {},
   "source": [
    "- The severity index is designed to provide a clear indication of the potential impacts of a tropical system. To make the index more interpretable, it is scaled from 0 to 5, where:\n",
    "\n",
    "- 0 represents minimal or no expected damage, indicating conditions that are not severe.\n",
    "\n",
    "- 5 represents the highest severity, indicating conditions that could lead to widespread damage and danger.\n",
    "\n",
    "The scale was determined based on an assessment of the key meteorological variables—wind speed, precipitation rate, vorticity, and surface pressure—and how they correspond to known impacts in tropical weather events. By normalizing these values and scaling them to a 0-5 range, we can quantify the potential for storm-related impacts in a way that is both understandable and practical for further analysis and decision-making."
   ]
  },
  {
   "cell_type": "markdown",
   "id": "51e1a83c-c63d-437a-87e9-e383adf1711b",
   "metadata": {},
   "source": [
    "## Calculation of the Index"
   ]
  },
  {
   "cell_type": "markdown",
   "id": "09c78413-f369-4ee1-b229-f3a08427de0c",
   "metadata": {},
   "source": [
    "Development of multiple functions allowed us to take any ECMWF model data as input, and output all of the normalized variables and the calculated **Severity Index**"
   ]
  },
  {
   "cell_type": "code",
   "execution_count": null,
   "id": "bed1bc28-4f58-4649-a6fc-185911d80d85",
   "metadata": {},
   "outputs": [],
   "source": [
    "def normalize(var, min_val, max_val): \n",
    "    return (var - min_val) / (max_val - min_val)\n",
    "\n",
    "def find_vorticity(lst):\n",
    "    vo = lst['vo'].sel(isobaricInhPa=500) \n",
    "    vorticity_norm = normalize(vo, -0.00001, 0.003)\n",
    "    return vorticity_norm\n",
    "\n",
    "# finding the pressure normalization \n",
    "def find_pressure(lst):\n",
    "    sp = lst['sp'].values / 100\n",
    "    pressure_norm = normalize(sp, 980, 1020)\n",
    "    return pressure_norm\n",
    "\n",
    "# finding the precipitation rate normalization\n",
    "def find_prate(lst):\n",
    "    tp = lst['tp'].values\n",
    "    approximatedprate = (tp * 39.37) / 6  # conversion to inches per hour (originally was in meters)\n",
    "    prate_norm = normalize(approximatedprate, 0.1, 1.0)\n",
    "    return prate_norm\n",
    "\n",
    "# find wind normalization\n",
    "def find_wind(lst):\n",
    "    uNew = lst['u'].sel(isobaricInhPa=1000).values\n",
    "    vNew = lst['v'].sel(isobaricInhPa=1000).values\n",
    "    totalwind = ((uNew ** 2 + vNew ** 2) ** 0.5) * 2 # conversion to knots for easier plotting\n",
    "    totalwind_norm = normalize(totalwind, 0, 140)\n",
    "    return totalwind_norm\n",
    "    \n",
    "def find_threat(lst):\n",
    "     # pulling in the previously defined functions and use them on the inputted list\n",
    "    pressure_norm = find_pressure(lst)\n",
    "    vorticity_norm = find_vorticity(lst)\n",
    "    totalwind_norm = find_wind(lst)\n",
    "    prate_norm = find_prate(lst)\n",
    "\n",
    "    # threat formula \n",
    "    severity_index = abs((0.5 * totalwind_norm) + (0.3 * prate_norm) + (0.15 * vorticity_norm) + (0.05 * pressure_norm))\n",
    "    # weighted severity index, we decided to have it mostly based on total wind and precipitation, with small components of the vorticity and pressure for some more depth\n",
    "    severity_index = severity_index * 10\n",
    "    # multitplied our index by ten to make the values a little more \" realistic \" to have a range 1-5 instead of decimals\n",
    "    return severity_index"
   ]
  },
  {
   "cell_type": "markdown",
   "id": "d89ca305-255d-4163-9e73-eabbc57dd435",
   "metadata": {},
   "source": [
    "Now that we introduced our Severity Index, we can make subplots for our variables that were chosen and include the movement of the storm and where it is going to be affected at the most"
   ]
  },
  {
   "cell_type": "markdown",
   "id": "117252ca-ea68-4576-8911-331b0767e915",
   "metadata": {},
   "source": [
    "## Example Application"
   ]
  },
  {
   "cell_type": "markdown",
   "id": "64c92177-14a9-4d78-a3d4-547d8e97ec1e",
   "metadata": {},
   "source": [
    "This image correlates with Hurricane Helene at 06 Z\n",
    "![image6](ms3-6.png)\n",
    "![image7](ms3-7.png)"
   ]
  },
  {
   "cell_type": "markdown",
   "id": "fd940b35-6370-4006-99e4-b742c8e10308",
   "metadata": {},
   "source": [
    "This plot shows the severity index applied to Hurricane Helene on 09-27-2024 at forecast hour 6. The event was chosen because it featured notable tropical weather impacts, making it a good test case for evaluating how the index responds to real conditions.\n",
    "\n",
    "In this example, the index highlights areas of increased severity where strong winds, heavy rainfall, and low surface pressure were present. These regions correspond well with the observed core of the storm, showing that the index can capture areas of potential concern during a tropical event. While the index is still a simplified representation, it helps visualize changing conditions and can offer early insight into where storm impacts may be highest."
   ]
  },
  {
   "cell_type": "markdown",
   "id": "731e2393-f06a-4b37-af83-e7a6a4c0ddfc",
   "metadata": {},
   "source": [
    "## Conclusion\n",
    "This project introduced a basic severity index for tropical weather systems, combining wind speed, precipitation rate, vorticity, and surface pressure into a single 0–5 scale. While the index is still in its early stages, it has shown potential in identifying areas of concern during tropical events.\n",
    "\n",
    "Future improvements could include incorporating additional factors like storm surge, terrain, and population density to better assess real-world impacts. Enhancing the index's accuracy and expanding its applicability could make it a more valuable tool for forecasting and decision-making in meteorology."
   ]
  },
  {
   "cell_type": "code",
   "execution_count": null,
   "id": "4f6d5ae4-40d9-4035-bb9c-ee1f7817693c",
   "metadata": {},
   "outputs": [],
   "source": []
  }
 ],
 "metadata": {
  "kernelspec": {
   "display_name": "Meteo 473 Spring 2025",
   "language": "python",
   "name": "meteo473_sp25"
  },
  "language_info": {
   "codemirror_mode": {
    "name": "ipython",
    "version": 3
   },
   "file_extension": ".py",
   "mimetype": "text/x-python",
   "name": "python",
   "nbconvert_exporter": "python",
   "pygments_lexer": "ipython3",
   "version": "3.13.1"
  }
 },
 "nbformat": 4,
 "nbformat_minor": 5
}
